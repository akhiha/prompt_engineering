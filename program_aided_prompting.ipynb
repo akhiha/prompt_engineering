{
 "cells": [
  {
   "cell_type": "markdown",
   "id": "1ebbfb80",
   "metadata": {},
   "source": [
    "# Program Aided Prompting Example"
   ]
  },
  {
   "cell_type": "markdown",
   "id": "ad074792",
   "metadata": {},
   "source": [
    "## Setup\n",
    "We use built-in Python libraries to read a CSV sales file and demonstrate how a model-generated code snippet could be executed."
   ]
  },
  {
   "cell_type": "code",
   "execution_count": 1,
   "id": "5b4c479e",
   "metadata": {
    "execution": {
     "iopub.execute_input": "2025-07-17T12:08:13.770598Z",
     "iopub.status.busy": "2025-07-17T12:08:13.770414Z",
     "iopub.status.idle": "2025-07-17T12:08:13.777829Z",
     "shell.execute_reply": "2025-07-17T12:08:13.777272Z"
    }
   },
   "outputs": [
    {
     "name": "stdout",
     "output_type": "stream",
     "text": [
      "Rows: 10\n"
     ]
    }
   ],
   "source": [
    "import csv\n",
    "rows=[]\n",
    "with open('sales_data.csv') as f:\n",
    "    reader=csv.DictReader(f)\n",
    "    for row in reader:\n",
    "        rows.append({'category': row['category'], 'sales': int(row['sales'])})\n",
    "print('Rows:', len(rows))\n"
   ]
  },
  {
   "cell_type": "markdown",
   "id": "1917277e",
   "metadata": {},
   "source": [
    "## Step 1: Pretend the model wrote some code"
   ]
  },
  {
   "cell_type": "code",
   "execution_count": 2,
   "id": "bfac330b",
   "metadata": {
    "execution": {
     "iopub.execute_input": "2025-07-17T12:08:13.779534Z",
     "iopub.status.busy": "2025-07-17T12:08:13.779359Z",
     "iopub.status.idle": "2025-07-17T12:08:13.782942Z",
     "shell.execute_reply": "2025-07-17T12:08:13.782315Z"
    }
   },
   "outputs": [
    {
     "name": "stdout",
     "output_type": "stream",
     "text": [
      "\n",
      "total_sales = sum(r['sales'] for r in rows)\n",
      "top_category = max(rows, key=lambda r: r['sales'])['category']\n",
      "print('total_sales =', total_sales)\n",
      "print('top_category =', top_category)\n",
      "\n"
     ]
    }
   ],
   "source": [
    "generated_code = '''\n",
    "total_sales = sum(r['sales'] for r in rows)\n",
    "top_category = max(rows, key=lambda r: r['sales'])['category']\n",
    "print('total_sales =', total_sales)\n",
    "print('top_category =', top_category)\n",
    "'''\n",
    "print(generated_code)\n"
   ]
  },
  {
   "cell_type": "markdown",
   "id": "dccf19e7",
   "metadata": {},
   "source": [
    "## Step 2: Execute the generated code"
   ]
  },
  {
   "cell_type": "code",
   "execution_count": 3,
   "id": "e3330cbc",
   "metadata": {
    "execution": {
     "iopub.execute_input": "2025-07-17T12:08:13.784447Z",
     "iopub.status.busy": "2025-07-17T12:08:13.784277Z",
     "iopub.status.idle": "2025-07-17T12:08:13.787784Z",
     "shell.execute_reply": "2025-07-17T12:08:13.787166Z"
    }
   },
   "outputs": [
    {
     "name": "stdout",
     "output_type": "stream",
     "text": [
      "total_sales = 1560\n",
      "top_category = Toys\n"
     ]
    }
   ],
   "source": [
    "namespace={'rows':rows}\n",
    "exec(generated_code, namespace)\n",
    "total_sales=namespace['total_sales']\n",
    "top_category=namespace['top_category']\n"
   ]
  },
  {
   "cell_type": "markdown",
   "id": "c3d5d309",
   "metadata": {},
   "source": [
    "## Step 3: Summarize the results"
   ]
  },
  {
   "cell_type": "code",
   "execution_count": 4,
   "id": "5906b978",
   "metadata": {
    "execution": {
     "iopub.execute_input": "2025-07-17T12:08:13.789336Z",
     "iopub.status.busy": "2025-07-17T12:08:13.789161Z",
     "iopub.status.idle": "2025-07-17T12:08:13.792391Z",
     "shell.execute_reply": "2025-07-17T12:08:13.791825Z"
    }
   },
   "outputs": [
    {
     "name": "stdout",
     "output_type": "stream",
     "text": [
      "Total sales were 1560. The top category was Toys.\n"
     ]
    }
   ],
   "source": [
    "summary=f'Total sales were {total_sales}. The top category was {top_category}.'\n",
    "print(summary)\n"
   ]
  },
  {
   "cell_type": "markdown",
   "id": "168a7a81",
   "metadata": {},
   "source": [
    "### Example prompts for faculty\n",
    "1. **Placement analysis**: ...\n",
    "2. **Exam results**: ..."
   ]
  }
 ],
 "metadata": {
  "language_info": {
   "codemirror_mode": {
    "name": "ipython",
    "version": 3
   },
   "file_extension": ".py",
   "mimetype": "text/x-python",
   "name": "python",
   "nbconvert_exporter": "python",
   "pygments_lexer": "ipython3",
   "version": "3.11.12"
  }
 },
 "nbformat": 4,
 "nbformat_minor": 5
}
