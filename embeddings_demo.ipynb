{
 "cells": [
  {
   "cell_type": "markdown",
   "id": "c5c9ccc5",
   "metadata": {},
   "source": [
    "# Embeddings Projects Demo"
   ]
  },
  {
   "cell_type": "markdown",
   "id": "86401e8b",
   "metadata": {},
   "source": [
    "This notebook demonstrates simplified versions of two embeddings-based projects using only standard Python libraries."
   ]
  },
  {
   "cell_type": "code",
   "execution_count": 1,
   "id": "9928bcda",
   "metadata": {
    "execution": {
     "iopub.execute_input": "2025-07-17T12:08:59.298726Z",
     "iopub.status.busy": "2025-07-17T12:08:59.298552Z",
     "iopub.status.idle": "2025-07-17T12:08:59.305617Z",
     "shell.execute_reply": "2025-07-17T12:08:59.305129Z"
    }
   },
   "outputs": [],
   "source": [
    "from collections import Counter\n",
    "import math\n",
    "\n",
    "def embed(text):\n",
    "    tokens=text.lower().split()\n",
    "    return Counter(tokens)\n",
    "\n",
    "def cosine(a,b):\n",
    "    all_keys=set(a)|set(b)\n",
    "    dot=sum(a.get(k,0)*b.get(k,0) for k in all_keys)\n",
    "    na=math.sqrt(sum(v*v for v in a.values()))\n",
    "    nb=math.sqrt(sum(v*v for v in b.values()))\n",
    "    return dot/(na*nb) if na and nb else 0.0\n"
   ]
  },
  {
   "cell_type": "markdown",
   "id": "c088f4e9",
   "metadata": {},
   "source": [
    "## 1. Ask-NAAC-Anything (Toy Example)"
   ]
  },
  {
   "cell_type": "code",
   "execution_count": 2,
   "id": "54baa5c0",
   "metadata": {
    "execution": {
     "iopub.execute_input": "2025-07-17T12:08:59.307405Z",
     "iopub.status.busy": "2025-07-17T12:08:59.307242Z",
     "iopub.status.idle": "2025-07-17T12:08:59.311756Z",
     "shell.execute_reply": "2025-07-17T12:08:59.311204Z"
    }
   },
   "outputs": [
    {
     "name": "stdout",
     "output_type": "stream",
     "text": [
      "AQAR.txt -> 0.14\n",
      "Minutes.txt -> 0.13\n",
      "SSR_Criterion3.txt -> 0.12\n"
     ]
    }
   ],
   "source": [
    "docs={\n",
    "    'SSR_Criterion3.txt': 'Extension activities carry forty percent of marks under Metric 3.3.',\n",
    "    'Minutes.txt': 'Meeting discussed outreach programs and extension activities weightage.',\n",
    "    'AQAR.txt': 'Criterion 3 emphasises research and extension work.'\n",
    "}\n",
    "embeddings={fn:embed(txt) for fn,txt in docs.items()}\n",
    "query='What is the weightage for Extension Activities?'\n",
    "q_vec=embed(query)\n",
    "results=sorted(((cosine(q_vec,vec),fn) for fn,vec in embeddings.items()), reverse=True)\n",
    "for score,fn in results:\n",
    "    print(fn,'->',round(score,2))\n"
   ]
  },
  {
   "cell_type": "markdown",
   "id": "f8e6f53a",
   "metadata": {},
   "source": [
    "## 2. Project Abstract Similarity & Diversity Dashboard"
   ]
  },
  {
   "cell_type": "code",
   "execution_count": 3,
   "id": "625e562a",
   "metadata": {
    "execution": {
     "iopub.execute_input": "2025-07-17T12:08:59.313392Z",
     "iopub.status.busy": "2025-07-17T12:08:59.313235Z",
     "iopub.status.idle": "2025-07-17T12:08:59.318395Z",
     "shell.execute_reply": "2025-07-17T12:08:59.317847Z"
    }
   },
   "outputs": [
    {
     "name": "stdout",
     "output_type": "stream",
     "text": [
      "Duplicates: []\n",
      "Clusters: {'A': ['IoT Soil Sensor'], 'Machine': ['Crop Yield Predictor'], 'CNN': ['ECG Anomaly Detector'], 'Solar': ['Soil Sensor Variant']}\n"
     ]
    }
   ],
   "source": [
    "abstracts=[\n",
    "    {'title':'IoT Soil Sensor','text':'A solar-powered sensor measures moisture and nutrients.'},\n",
    "    {'title':'Crop Yield Predictor','text':'Machine learning predicts farm yield from sensor data.'},\n",
    "    {'title':'ECG Anomaly Detector','text':'CNN models detect anomalies in ECG signals.'},\n",
    "    {'title':'Soil Sensor Variant','text':'Solar sensor tracks soil moisture efficiently.'}\n",
    "]\n",
    "vecs=[embed(a['text']) for a in abstracts]\n",
    "# find duplicates\n",
    "n=len(vecs)\n",
    "dups=[]\n",
    "for i in range(n):\n",
    "    for j in range(i+1,n):\n",
    "        sim=cosine(vecs[i],vecs[j])\n",
    "        if sim>0.8:\n",
    "            dups.append((abstracts[i]['title'], abstracts[j]['title'], round(sim,2)))\n",
    "print('Duplicates:', dups)\n",
    "# simple 2-cluster by first token\n",
    "clusters={}\n",
    "for a in abstracts:\n",
    "    key=a['text'].split()[0]\n",
    "    clusters.setdefault(key,[]).append(a['title'])\n",
    "print('Clusters:', clusters)\n"
   ]
  }
 ],
 "metadata": {
  "language_info": {
   "codemirror_mode": {
    "name": "ipython",
    "version": 3
   },
   "file_extension": ".py",
   "mimetype": "text/x-python",
   "name": "python",
   "nbconvert_exporter": "python",
   "pygments_lexer": "ipython3",
   "version": "3.11.12"
  }
 },
 "nbformat": 4,
 "nbformat_minor": 5
}
