{
 "cells": [
  {
   "cell_type": "markdown",
   "metadata": {},
   "source": [
    "# Recursive Prompting\n\nThis notebook explains the concept of **recursive prompting**. It also provides a simple example illustrating how a model can be queried iteratively with increasingly refined prompts."
   ]
  },
  {
   "cell_type": "markdown",
   "metadata": {},
   "source": [
    "## Concept\nRecursive prompting refers to a technique where the response from a model is used to construct a new prompt, forming a feedback loop. This iterative process continues until a desired level of detail or correctness is reached."
   ]
  },
  {
   "cell_type": "markdown",
   "metadata": {},
   "source": [
    "## Example\nThe code below demonstrates a toy example of recursively refining a question about a concept."
   ]
  },
  {
   "cell_type": "code",
   "metadata": {},
   "execution_count": null,
   "outputs": [],
   "source": [
    "def recursive_prompter(question, refine, depth=3):\n    prompt = question\n    for _ in range(depth):\n        print('Prompt:', prompt)\n        # In a real scenario, this is where you would call your language model.\n        # We simulate this by applying the 'refine' function to get a new prompt.\n        prompt = refine(prompt)\n    print('Final prompt:', prompt)\n\n# Example refine function:\ndef add_detail(prev):\n    return prev + ' Could you elaborate further?'\n\nrecursive_prompter('Explain recursion in simple terms.', add_detail)"
   ]
  },
  {
   "cell_type": "markdown",
   "metadata": {},
   "source": [
    "The `recursive_prompter` function starts with an initial question and repeatedly refines it. In practice, you might send each prompt to a language model and use its response to generate the next prompt."
   ]
  }
 ],
 "metadata": {
  "kernelspec": {
   "display_name": "Python 3",
   "language": "python",
   "name": "python3"
  },
  "language_info": {
   "file_extension": ".py",
   "mimetype": "text/x-python",
   "name": "python",
   "version": "3.8"
  }
 },
 "nbformat": 4,
 "nbformat_minor": 5
}