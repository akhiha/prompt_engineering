{
 "cells": [
  {
   "cell_type": "markdown",
   "id": "df364b5e",
   "metadata": {},
   "source": [
    "# Recursive Prompting\n",
    "\n",
    "This notebook explains the concept of **recursive prompting**. It also provides a simple example illustrating how a model can be queried iteratively with increasingly refined prompts."
   ]
  },
  {
   "cell_type": "markdown",
   "id": "7c67c0a9",
   "metadata": {},
   "source": [
    "## Concept\n",
    "Recursive prompting refers to a technique where the response from a model is used to construct a new prompt, forming a feedback loop. This iterative process continues until a desired level of detail or correctness is reached."
   ]
  },
  {
   "cell_type": "markdown",
   "id": "47f5c840",
   "metadata": {},
   "source": [
    "## Example\n",
    "The code below demonstrates a toy example of recursively refining a question about a concept."
   ]
  },
  {
   "cell_type": "code",
   "execution_count": 1,
   "id": "8aee78b3",
   "metadata": {
    "execution": {
     "iopub.execute_input": "2025-07-17T12:08:44.484874Z",
     "iopub.status.busy": "2025-07-17T12:08:44.484286Z",
     "iopub.status.idle": "2025-07-17T12:08:44.495133Z",
     "shell.execute_reply": "2025-07-17T12:08:44.494489Z"
    }
   },
   "outputs": [
    {
     "name": "stdout",
     "output_type": "stream",
     "text": [
      "Prompt: Explain recursion in simple terms.\n",
      "Prompt: Explain recursion in simple terms. Could you elaborate further?\n",
      "Prompt: Explain recursion in simple terms. Could you elaborate further? Could you elaborate further?\n",
      "Final prompt: Explain recursion in simple terms. Could you elaborate further? Could you elaborate further? Could you elaborate further?\n"
     ]
    }
   ],
   "source": [
    "def recursive_prompter(question, refine, depth=3):\n",
    "    prompt = question\n",
    "    for _ in range(depth):\n",
    "        print('Prompt:', prompt)\n",
    "        # In a real scenario, this is where you would call your language model.\n",
    "        # We simulate this by applying the 'refine' function to get a new prompt.\n",
    "        prompt = refine(prompt)\n",
    "    print('Final prompt:', prompt)\n",
    "\n",
    "# Example refine function:\n",
    "def add_detail(prev):\n",
    "    return prev + ' Could you elaborate further?'\n",
    "\n",
    "recursive_prompter('Explain recursion in simple terms.', add_detail)"
   ]
  },
  {
   "cell_type": "markdown",
   "id": "d0ac6eb0",
   "metadata": {},
   "source": [
    "The `recursive_prompter` function starts with an initial question and repeatedly refines it. In practice, you might send each prompt to a language model and use its response to generate the next prompt."
   ]
  },
  {
   "cell_type": "markdown",
   "id": "78ce40ac",
   "metadata": {},
   "source": [
    "### Example prompts for faculty\n",
    "\n",
    "Try these iterative queries in ChatGPT for tasks common in Telangana/AP engineering colleges:\n",
    "1. Begin with `Outline the key points of Outcome-Based Education.` Then ask `Add examples relevant to tier-2 colleges in Telangana and AP.` Finally request `Suggest common pitfalls to avoid.`\n",
    "2. Start with `Propose a mini-project integrating industry collaboration for final-year students.` Refine by asking `Make it feasible with limited budget and resources.` Then ask `Give a week-by-week schedule for a four-week project.`"
   ]
  }
 ],
 "metadata": {
  "kernelspec": {
   "display_name": "Python 3",
   "language": "python",
   "name": "python3"
  },
  "language_info": {
   "codemirror_mode": {
    "name": "ipython",
    "version": 3
   },
   "file_extension": ".py",
   "mimetype": "text/x-python",
   "name": "python",
   "nbconvert_exporter": "python",
   "pygments_lexer": "ipython3",
   "version": "3.11.12"
  }
 },
 "nbformat": 4,
 "nbformat_minor": 5
}
