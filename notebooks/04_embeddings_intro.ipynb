{
 "cells": [
  {
   "cell_type": "markdown",
   "id": "bcc0fac5",
   "metadata": {},
   "source": [
    "# Embeddings Intro\n",
    "Compute naive embeddings (random vectors) and cosine similarity."
   ]
  },
  {
   "cell_type": "code",
   "execution_count": 1,
   "id": "3574433d",
   "metadata": {},
   "outputs": [
    {
     "name": "stdout",
     "output_type": "stream",
     "text": [
      "Similarity scores:\n",
      "0 1.0\n",
      "1 0.884\n",
      "2 0.823\n"
     ]
    }
   ],
   "source": [
    "import numpy as np\n",
    "np.random.seed(0)\n",
    "vecs = np.random.rand(3,4)\n",
    "query = vecs[0]\n",
    "cos = lambda a,b: np.dot(a,b)/(np.linalg.norm(a)*np.linalg.norm(b))\n",
    "print('Similarity scores:')\n",
    "for i,v in enumerate(vecs):\n",
    "    print(i, cos(query, v).round(3))"
   ]
  }
 ],
 "metadata": {
  "kernelspec": {
   "display_name": "Python 3",
   "language": "python",
   "name": "python3"
  }
 },
 "nbformat": 4,
 "nbformat_minor": 5
}
