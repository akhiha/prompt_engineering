{
 "cells": [
  {
   "cell_type": "markdown",
   "id": "a710a6ed",
   "metadata": {},
   "source": [
    "# Prompt Chaining\n",
    "Simulate two‑step chain: translate → summarise."
   ]
  },
  {
   "cell_type": "code",
   "execution_count": 1,
   "id": "f0903dea",
   "metadata": {},
   "outputs": [
    {
     "name": "stdout",
     "output_type": "stream",
     "text": [
      "Step1: Hello world.\n",
      "Step2: Greeting earthlings.\n"
     ]
    }
   ],
   "source": [
    "user_input = 'Bonjour le monde.'\n",
    "step1 = 'Hello world.'  # pretend translate\n",
    "step2 = 'Greeting earthlings.'  # pretend summary\n",
    "print('Step1:', step1)\n",
    "print('Step2:', step2)"
   ]
  }
 ],
 "metadata": {
  "kernelspec": {
   "display_name": "Python 3",
   "language": "python",
   "name": "python3"
  }
 },
 "nbformat": 4,
 "nbformat_minor": 5
}
