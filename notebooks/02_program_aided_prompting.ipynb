{
 "cells": [
  {
   "cell_type": "markdown",
   "id": "54c33d2f",
   "metadata": {},
   "source": [
    "# Program‑Aided Prompting (ReAct)\n",
    "We let code handle calculations and the LLM handles reasoning."
   ]
  },
  {
   "cell_type": "code",
   "execution_count": 1,
   "id": "8e86d75a",
   "metadata": {},
   "outputs": [
    {
     "name": "stdout",
     "output_type": "stream",
     "text": [
      "CO2 for 1200 kWh: 1104.0 kg\n"
     ]
    }
   ],
   "source": [
    "def carbon_footprint(kwh, factor=0.92):\n",
    "    return kwh * factor\n",
    "print('CO2 for 1200 kWh:', carbon_footprint(1200), 'kg')"
   ]
  },
  {
   "cell_type": "markdown",
   "id": "4adff29b",
   "metadata": {},
   "source": [
    "In production, the LLM would decide *when* to call `carbon_footprint`."
   ]
  }
 ],
 "metadata": {
  "kernelspec": {
   "display_name": "Python 3",
   "language": "python",
   "name": "python3"
  }
 },
 "nbformat": 4,
 "nbformat_minor": 5
}
