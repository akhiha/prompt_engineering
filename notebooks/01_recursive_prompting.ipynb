{
 "cells": [
  {
   "cell_type": "markdown",
   "id": "ba6a14da",
   "metadata": {},
   "source": [
    "# Recursive Prompting Demo\n",
    "Goal: Summarize large text via map‑reduce."
   ]
  },
  {
   "cell_type": "markdown",
   "id": "c927bbbc",
   "metadata": {},
   "source": [
    "### Steps\n",
    "1. Split text into chunks\n",
    "2. Summarize each chunk\n",
    "3. Recursively combine summaries until under token limit."
   ]
  },
  {
   "cell_type": "code",
   "execution_count": 1,
   "id": "924791db",
   "metadata": {},
   "outputs": [
    {
     "name": "stdout",
     "output_type": "stream",
     "text": [
      "['Summary-0', 'Summary-1', 'Summary-2']\n",
      "Final: Summary-0 Summary-1 Summary-2..."
     ]
    }
   ],
   "source": [
    "text = 'A' * 1200  # pretend large doc\n",
    "chunks = [text[i:i+400] for i in range(0, len(text), 400)]\n",
    "chunk_summaries = [f'Summary-{i}' for i,_ in enumerate(chunks)]\n",
    "print(chunk_summaries)\n",
    "final_summary = ' '.join(chunk_summaries)\n",
    "print('Final:', final_summary[:60] + '...')"
   ]
  }
 ],
 "metadata": {
  "kernelspec": {
   "display_name": "Python 3",
   "language": "python",
   "name": "python3"
  }
 },
 "nbformat": 4,
 "nbformat_minor": 5
}
