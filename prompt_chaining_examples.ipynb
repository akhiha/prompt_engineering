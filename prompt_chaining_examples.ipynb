{
 "cells": [
  {
   "cell_type": "markdown",
   "id": "9b7af3eb",
   "metadata": {},
   "source": [
    "# Prompt Chaining Examples"
   ]
  },
  {
   "cell_type": "markdown",
   "id": "a54b4d7a",
   "metadata": {},
   "source": [
    "## Example 1: Research-Paper Digest → Quiz Builder"
   ]
  },
  {
   "cell_type": "code",
   "execution_count": 1,
   "id": "16460cd2",
   "metadata": {
    "execution": {
     "iopub.execute_input": "2025-07-17T12:08:34.353406Z",
     "iopub.status.busy": "2025-07-17T12:08:34.353228Z",
     "iopub.status.idle": "2025-07-17T12:08:34.360949Z",
     "shell.execute_reply": "2025-07-17T12:08:34.360358Z"
    }
   },
   "outputs": [
    {
     "name": "stdout",
     "output_type": "stream",
     "text": [
      "MCQ: What does the paper introduce? A) This paper introduces a simple algorithm.\n",
      "Status: ✅ ready\n"
     ]
    }
   ],
   "source": [
    "paper='This paper introduces a simple algorithm. It is easy to implement.'\n",
    "\n",
    "def summarize(text):\n",
    "    return text.split('.')[0] + '.'\n",
    "\n",
    "def make_mcq(summary):\n",
    "    return f\"What does the paper introduce? A) {summary}\"\n",
    "\n",
    "def review(mcq):\n",
    "    return '✅ ready' if mcq else '❌'\n",
    "\n",
    "summary = summarize(paper)\n",
    "mcq = make_mcq(summary)\n",
    "status = review(mcq)\n",
    "print('MCQ:', mcq)\n",
    "print('Status:', status)\n"
   ]
  },
  {
   "cell_type": "markdown",
   "id": "ff9575c1",
   "metadata": {},
   "source": [
    "## Example 2: Raw Marks → Dashboard"
   ]
  },
  {
   "cell_type": "code",
   "execution_count": 2,
   "id": "099df136",
   "metadata": {
    "execution": {
     "iopub.execute_input": "2025-07-17T12:08:34.362916Z",
     "iopub.status.busy": "2025-07-17T12:08:34.362408Z",
     "iopub.status.idle": "2025-07-17T12:08:34.367529Z",
     "shell.execute_reply": "2025-07-17T12:08:34.366724Z"
    }
   },
   "outputs": [
    {
     "name": "stdout",
     "output_type": "stream",
     "text": [
      "Info: {'safe_count': 2, 'risk_count': 1, 'at_risk': [{'name': 'Ben', 'marks': 35}]}\n",
      "Emails: ['Email to Ben: please improve']\n"
     ]
    }
   ],
   "source": [
    "data=[{'name':'Ann','marks':55},{'name':'Ben','marks':35},{'name':'Cat','marks':75}]\n",
    "\n",
    "def analyze(data):\n",
    "    safe=[d for d in data if d['marks']>=40]\n",
    "    risk=[d for d in data if d['marks']<40]\n",
    "    return {'safe_count':len(safe),'risk_count':len(risk),'at_risk':risk}\n",
    "\n",
    "def make_emails(info):\n",
    "    return [f\"Email to {d['name']}: please improve\" for d in info['at_risk']]\n",
    "\n",
    "info=analyze(data)\n",
    "emails=make_emails(info)\n",
    "print('Info:', info)\n",
    "print('Emails:', emails)\n"
   ]
  },
  {
   "cell_type": "markdown",
   "id": "05c346aa",
   "metadata": {},
   "source": [
    "## Example 3: Bug Report → Patch Suggestion"
   ]
  },
  {
   "cell_type": "code",
   "execution_count": 3,
   "id": "71e64e57",
   "metadata": {
    "execution": {
     "iopub.execute_input": "2025-07-17T12:08:34.369188Z",
     "iopub.status.busy": "2025-07-17T12:08:34.368836Z",
     "iopub.status.idle": "2025-07-17T12:08:34.373374Z",
     "shell.execute_reply": "2025-07-17T12:08:34.372287Z"
    }
   },
   "outputs": [
    {
     "name": "stdout",
     "output_type": "stream",
     "text": [
      "Cause: Off by one\n",
      "Patch: Fix index\n"
     ]
    }
   ],
   "source": [
    "log='Exception at line 10'\n",
    "\n",
    "def extract(log):\n",
    "    return log\n",
    "\n",
    "def guess_cause(text):\n",
    "    return 'Off by one'\n",
    "\n",
    "def propose_patch(cause):\n",
    "    return 'Fix index'\n",
    "\n",
    "text=extract(log)\n",
    "cause=guess_cause(text)\n",
    "patch=propose_patch(cause)\n",
    "print('Cause:', cause)\n",
    "print('Patch:', patch)\n"
   ]
  },
  {
   "cell_type": "markdown",
   "id": "84bb6dcd",
   "metadata": {},
   "source": [
    "## Example 4: Lecture Notes → MCQs"
   ]
  },
  {
   "cell_type": "code",
   "execution_count": 4,
   "id": "ca1703ed",
   "metadata": {
    "execution": {
     "iopub.execute_input": "2025-07-17T12:08:34.375146Z",
     "iopub.status.busy": "2025-07-17T12:08:34.374804Z",
     "iopub.status.idle": "2025-07-17T12:08:34.379377Z",
     "shell.execute_reply": "2025-07-17T12:08:34.378326Z"
    }
   },
   "outputs": [
    {
     "name": "stdout",
     "output_type": "stream",
     "text": [
      "MCQ: Recursion is? A) Define recursion\n"
     ]
    }
   ],
   "source": [
    "notes='Recursion is a function calling itself.'\n",
    "\n",
    "def objectives(text):\n",
    "    return ['Define recursion']\n",
    "\n",
    "def mcq(obj):\n",
    "    return f'Recursion is? A) {obj[0]}'\n",
    "\n",
    "objs=objectives(notes)\n",
    "mcq_text=mcq(objs)\n",
    "print('MCQ:', mcq_text)\n"
   ]
  }
 ],
 "metadata": {
  "language_info": {
   "codemirror_mode": {
    "name": "ipython",
    "version": 3
   },
   "file_extension": ".py",
   "mimetype": "text/x-python",
   "name": "python",
   "nbconvert_exporter": "python",
   "pygments_lexer": "ipython3",
   "version": "3.11.12"
  }
 },
 "nbformat": 4,
 "nbformat_minor": 5
}
